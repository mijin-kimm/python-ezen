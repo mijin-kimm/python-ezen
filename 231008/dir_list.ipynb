{
 "cells": [
  {
   "cell_type": "code",
   "execution_count": 4,
   "metadata": {},
   "outputs": [
    {
     "data": {
      "text/plain": [
       "['201701_expense_list.csv',\n",
       " '201702_expense_list.csv',\n",
       " '201703_expense_list.csv',\n",
       " '201704_expense_list.csv',\n",
       " '201705_expense_list.csv',\n",
       " '201706_expense_list.csv',\n",
       " '201707_expense_list.csv',\n",
       " '201708_expense_list.csv',\n",
       " '201709_expense_list.csv',\n",
       " '201710_expense_list.csv',\n",
       " '201711_expense_list.csv',\n",
       " '201712_expense_list.csv']"
      ]
     },
     "execution_count": 4,
     "metadata": {},
     "output_type": "execute_result"
    }
   ],
   "source": [
    "# 해당하는 폴더의 있는 파일들을 모두 로드하여 하나의 데이터프레임으로 생성\n",
    "\n",
    "# 파일의 목록 생성\n",
    "# 201701부터 201712의 배열을 생성\n",
    "\n",
    "file_list = []\n",
    "\n",
    "for i in range(201701, 201713, 1):\n",
    "    file_list.append(str(i) + '_expense_list.csv')\n",
    "\n",
    "file_list"
   ]
  },
  {
   "cell_type": "markdown",
   "metadata": {},
   "source": [
    "- 디렉토리 안에 있는 파일의 목록 로드\n",
    "- 라이브러리 os를 이용하여 경로상의 파일의 목록을 로드"
   ]
  },
  {
   "cell_type": "code",
   "execution_count": 11,
   "metadata": {},
   "outputs": [],
   "source": [
    "import os"
   ]
  },
  {
   "cell_type": "code",
   "execution_count": 12,
   "metadata": {},
   "outputs": [
    {
     "data": {
      "text/plain": [
       "['201701_expense_list.csv',\n",
       " '201702_expense_list.csv',\n",
       " '201703_expense_list.csv',\n",
       " '201704_expense_list.csv',\n",
       " '201705_expense_list.csv',\n",
       " '201706_expense_list.csv',\n",
       " '201707_expense_list.csv',\n",
       " '201708_expense_list.csv',\n",
       " '201709_expense_list.csv',\n",
       " '201710_expense_list.csv',\n",
       " '201711_expense_list.csv',\n",
       " '201712_expense_list.csv']"
      ]
     },
     "execution_count": 12,
     "metadata": {},
     "output_type": "execute_result"
    }
   ],
   "source": [
    "# dir 명령어 : 해당하는 경로의 디렉토리 리스트를 보여준다.\n",
    "# 상위 폴더로 이동 -> csv 하위 폴더 이동 -> 2017 하위 폴더 이동\n",
    "os.listdir(\"../csv/2017/\")"
   ]
  },
  {
   "cell_type": "code",
   "execution_count": 13,
   "metadata": {},
   "outputs": [],
   "source": [
    "import pandas as pd"
   ]
  },
  {
   "cell_type": "code",
   "execution_count": 15,
   "metadata": {},
   "outputs": [
    {
     "ename": "NameError",
     "evalue": "name 'true' is not defined",
     "output_type": "error",
     "traceback": [
      "\u001b[1;31m---------------------------------------------------------------------------\u001b[0m",
      "\u001b[1;31mNameError\u001b[0m                                 Traceback (most recent call last)",
      "\u001b[1;32me:\\python\\python-ezen\\231008\\dir_list.ipynb 셀 6\u001b[0m line \u001b[0;36m1\n\u001b[0;32m     <a href='vscode-notebook-cell:/e%3A/python/python-ezen/231008/dir_list.ipynb#X10sZmlsZQ%3D%3D?line=10'>11</a>\u001b[0m     df \u001b[39m=\u001b[39m pd\u001b[39m.\u001b[39mread_csv(file_path \u001b[39m+\u001b[39m file)\n\u001b[0;32m     <a href='vscode-notebook-cell:/e%3A/python/python-ezen/231008/dir_list.ipynb#X10sZmlsZQ%3D%3D?line=11'>12</a>\u001b[0m     \u001b[39m# print(file_path + file)\u001b[39;00m\n\u001b[0;32m     <a href='vscode-notebook-cell:/e%3A/python/python-ezen/231008/dir_list.ipynb#X10sZmlsZQ%3D%3D?line=12'>13</a>\u001b[0m \n\u001b[0;32m     <a href='vscode-notebook-cell:/e%3A/python/python-ezen/231008/dir_list.ipynb#X10sZmlsZQ%3D%3D?line=13'>14</a>\u001b[0m     \u001b[39m# 비어있는 데이터프레임과 로드한 df를 단순한 행 결합\u001b[39;00m\n\u001b[1;32m---> <a href='vscode-notebook-cell:/e%3A/python/python-ezen/231008/dir_list.ipynb#X10sZmlsZQ%3D%3D?line=14'>15</a>\u001b[0m     result \u001b[39m=\u001b[39m pd\u001b[39m.\u001b[39mconcat([result, df], axis\u001b[39m=\u001b[39m\u001b[39m0\u001b[39m, ignore_index\u001b[39m=\u001b[39mtrue)\n\u001b[0;32m     <a href='vscode-notebook-cell:/e%3A/python/python-ezen/231008/dir_list.ipynb#X10sZmlsZQ%3D%3D?line=16'>17</a>\u001b[0m result\u001b[39m.\u001b[39minfo()\n",
      "\u001b[1;31mNameError\u001b[0m: name 'true' is not defined"
     ]
    }
   ],
   "source": [
    "file_path = \"../csv/2017/\"\n",
    "\n",
    "file_list = os.listdir(file_path)\n",
    "\n",
    "# 비어있는 데이터프레임 생성\n",
    "result = pd.DataFrame()\n",
    "\n",
    "# file_list를 이용하여 반복문을 사용\n",
    "for file in file_list:\n",
    "    # file : 파일명\n",
    "    df = pd.read_csv(file_path + file)\n",
    "    # print(file_path + file)\n",
    "\n",
    "    # 비어있는 데이터프레임과 로드한 df를 단순한 행 결합\n",
    "    result = pd.concat([result, df], axis=0, ignore_index=true)\n",
    "\n",
    "result.info()\n",
    "    "
   ]
  },
  {
   "cell_type": "code",
   "execution_count": null,
   "metadata": {},
   "outputs": [],
   "source": []
  }
 ],
 "metadata": {
  "kernelspec": {
   "display_name": "Python 3",
   "language": "python",
   "name": "python3"
  },
  "language_info": {
   "codemirror_mode": {
    "name": "ipython",
    "version": 3
   },
   "file_extension": ".py",
   "mimetype": "text/x-python",
   "name": "python",
   "nbconvert_exporter": "python",
   "pygments_lexer": "ipython3",
   "version": "3.10.5"
  },
  "orig_nbformat": 4
 },
 "nbformat": 4,
 "nbformat_minor": 2
}
