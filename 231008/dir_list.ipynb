{
 "cells": [
  {
   "cell_type": "code",
   "execution_count": 1,
   "metadata": {},
   "outputs": [
    {
     "data": {
      "text/plain": [
       "['201701_expense_list.csv',\n",
       " '201702_expense_list.csv',\n",
       " '201703_expense_list.csv',\n",
       " '201704_expense_list.csv',\n",
       " '201705_expense_list.csv',\n",
       " '201706_expense_list.csv',\n",
       " '201707_expense_list.csv',\n",
       " '201708_expense_list.csv',\n",
       " '201709_expense_list.csv',\n",
       " '201710_expense_list.csv',\n",
       " '201711_expense_list.csv',\n",
       " '201712_expense_list.csv']"
      ]
     },
     "execution_count": 1,
     "metadata": {},
     "output_type": "execute_result"
    }
   ],
   "source": [
    "# 해당하는 폴더의 있는 파일들을 모두 로드하여 하나의 데이터프레임으로 생성\n",
    "\n",
    "# 파일의 목록 생성\n",
    "# 201701부터 201712의 배열을 생성\n",
    "\n",
    "file_list = []\n",
    "\n",
    "for i in range(201701, 201713, 1):\n",
    "    file_list.append(str(i) + '_expense_list.csv')\n",
    "\n",
    "file_list"
   ]
  },
  {
   "cell_type": "markdown",
   "metadata": {},
   "source": [
    "- 디렉토리 안에 있는 파일의 목록 로드\n",
    "- 라이브러리 os를 이용하여 경로상의 파일의 목록을 로드"
   ]
  },
  {
   "cell_type": "code",
   "execution_count": 2,
   "metadata": {},
   "outputs": [],
   "source": [
    "import os"
   ]
  },
  {
   "cell_type": "code",
   "execution_count": 3,
   "metadata": {},
   "outputs": [
    {
     "data": {
      "text/plain": [
       "['201702_expense_list.csv',\n",
       " '201709_expense_list.csv',\n",
       " '201712_expense_list.csv',\n",
       " '201706_expense_list.csv',\n",
       " '201703_expense_list.csv',\n",
       " '201708_expense_list.csv',\n",
       " '201707_expense_list.csv',\n",
       " '201704_expense_list.csv',\n",
       " '201710_expense_list.csv',\n",
       " '201701_expense_list.csv',\n",
       " '201705_expense_list.csv',\n",
       " '201711_expense_list.csv']"
      ]
     },
     "execution_count": 3,
     "metadata": {},
     "output_type": "execute_result"
    }
   ],
   "source": [
    "# dir 명령어 : 해당하는 경로의 디렉토리 리스트를 보여준다.\n",
    "# 상위 폴더로 이동 -> csv 하위 폴더 이동 -> 2017 하위 폴더 이동\n",
    "os.listdir(\"../csv/2017/\")"
   ]
  },
  {
   "cell_type": "code",
   "execution_count": 4,
   "metadata": {},
   "outputs": [],
   "source": [
    "import pandas as pd"
   ]
  },
  {
   "cell_type": "code",
   "execution_count": 6,
   "metadata": {},
   "outputs": [
    {
     "name": "stdout",
     "output_type": "stream",
     "text": [
      "<class 'pandas.core.frame.DataFrame'>\n",
      "RangeIndex: 70132 entries, 0 to 70131\n",
      "Data columns (total 20 columns):\n",
      " #   Column             Non-Null Count  Dtype  \n",
      "---  ------             --------------  -----  \n",
      " 0   nid                70132 non-null  int64  \n",
      " 1   title              70132 non-null  object \n",
      " 2   url                70132 non-null  object \n",
      " 3   dept_nm_lvl_1      70132 non-null  object \n",
      " 4   dept_nm_lvl_2      70074 non-null  object \n",
      " 5   dept_nm_lvl_3      61262 non-null  object \n",
      " 6   dept_nm_lvl_4      17939 non-null  object \n",
      " 7   dept_nm_lvl_5      3474 non-null   object \n",
      " 8   exec_yr            70132 non-null  int64  \n",
      " 9   exec_month         70132 non-null  int64  \n",
      " 10  expense_budget     3108 non-null   float64\n",
      " 11  expense_execution  2805 non-null   float64\n",
      " 12  category           1259 non-null   object \n",
      " 13  dept_nm_full       70053 non-null  object \n",
      " 14  exec_dt            70132 non-null  object \n",
      " 15  exec_loc           69360 non-null  object \n",
      " 16  exec_purpose       70110 non-null  object \n",
      " 17  target_nm          69597 non-null  object \n",
      " 18  payment_method     69929 non-null  object \n",
      " 19  exec_amount        70132 non-null  int64  \n",
      "dtypes: float64(2), int64(4), object(14)\n",
      "memory usage: 10.7+ MB\n"
     ]
    }
   ],
   "source": [
    "file_path = \"../csv/2017/\"\n",
    "\n",
    "file_list = os.listdir(file_path)\n",
    "\n",
    "# 비어있는 데이터프레임 생성\n",
    "result = pd.DataFrame()\n",
    "\n",
    "# file_list를 이용하여 반복문을 사용\n",
    "for file in file_list:\n",
    "    # file : 파일명\n",
    "    df = pd.read_csv(file_path + file)\n",
    "    # print(file_path + file)\n",
    "\n",
    "    # 비어있는 데이터프레임과 로드한 df를 단순한 행 결합\n",
    "    result = pd.concat([result, df], axis=0, ignore_index=True)\n",
    "\n",
    "result.info()\n",
    "    "
   ]
  },
  {
   "cell_type": "code",
   "execution_count": null,
   "metadata": {},
   "outputs": [],
   "source": []
  }
 ],
 "metadata": {
  "kernelspec": {
   "display_name": "Python 3",
   "language": "python",
   "name": "python3"
  },
  "language_info": {
   "codemirror_mode": {
    "name": "ipython",
    "version": 3
   },
   "file_extension": ".py",
   "mimetype": "text/x-python",
   "name": "python",
   "nbconvert_exporter": "python",
   "pygments_lexer": "ipython3",
   "version": "3.11.5"
  },
  "orig_nbformat": 4
 },
 "nbformat": 4,
 "nbformat_minor": 2
}
