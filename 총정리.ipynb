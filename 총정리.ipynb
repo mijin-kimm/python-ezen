{
 "cells": [
  {
   "cell_type": "markdown",
   "metadata": {},
   "source": [
    "# 변수\n",
    "- 데이터를 저장하는 공간의 이름 \n",
    "> 전역 변수 \n",
    "- 어디서든 사용이 가능한 변수 \n",
    "> 지역 변수 \n",
    "- 특정한 영역에서만 사용이 가능한 변수 \n",
    "- 해당 영역에서 벗어나는 경우 사용이 불가능\n",
    "- 함수 안에서 생성된 변수, 클래스 안에서 생성된 변수 \n",
    "> 매개 변수 \n",
    "- 함수를 선언할 때 만들어지는 변수 \n",
    "- 함수를 호출 시 특정한 입력 값(인자)을 받기 위해 만들어지는 변수 \n",
    "> self 변수 \n",
    "- 각각의 클래스에서 독립적인 값을 가지는 변수\n",
    "> 클래스 변수\n",
    "- 같은 클래스를 생성하면 독립적이지 않고 서로 공유하는 변수 "
   ]
  },
  {
   "cell_type": "markdown",
   "metadata": {},
   "source": [
    "# 경로 \n",
    "> 절대경로\n",
    "- 절대적인 주소 \n",
    "- 환경에 관계 없이 고정된 위치를 표현\n",
    "- ex) c:/users/admin/document/a.txt, https://www.google.com\n",
    "> 상대경로\n",
    "- 상대적인 주소\n",
    "- 환경에 따라 위치가 변화\n",
    "- 현재 작업중인 디렉토리에서 상위나 하위 폴더로 이동하여 파일의 경로를 생성\n",
    "- ex)\n",
    "    - 현재 작업중인 디렉토리 : ./\n",
    "    - 부모 디렉토리로 이동 : ../\n",
    "    - 하위 디렉토리로 이동 : 하위 디렉토리명/\n",
    "    - 부모 디렉토리에서 부모 디렉토리로 이동 : ../../"
   ]
  },
  {
   "cell_type": "markdown",
   "metadata": {},
   "source": [
    "# 함수 \n",
    "- 같은 코드를 반복적으로 사용하는 경우 함수를 생성하여 호출\n",
    "- 함수를 사용하는 이유\n",
    "    - 코드의 길이가 줄어든다( 유지보수, 가독성이 상승 )\n",
    "    - 수정이 용이\n",
    "    - 오타 발생 확률이 감소\n",
    "    - 에러 발생 확률이 감소\n",
    "- 특정한 입력 값을 받아와서 결과를 되돌려준다. "
   ]
  },
  {
   "cell_type": "markdown",
   "metadata": {},
   "source": [
    "# 조건문 \n",
    "> if문 \n",
    "- 특정한 조건이 참인 경우 실행할 코드와 조건이 거짓인 경우 실행할 코드를 나눠서 작성 \n",
    "- 거짓인 경우 실행할 코드는 else문을 이용하여 작성 \n",
    "- 조건식이 여러개인 경우에는 elif문을 이용하여 조건식을 생성 \n",
    "- 하나의 조건에서 여러 개의 조건식을 사용하는 경우에는 논리 연산자(and, or)를 사용"
   ]
  },
  {
   "cell_type": "markdown",
   "metadata": {},
   "source": [
    "# 반복문 \n",
    "> for문 \n",
    "- 기본 형 : for 변수명 in range(시작값, 종료값, 증감값):\n",
    "    - 시작 값부터 변수에 대입하여 반복하여 종료 값이 될때까지 코드를 반복 실행\n",
    "    - range() : 시작값부터 증감값으로 데이터를 변형하여 종료 값이 될 때까지의 원소들을 자료형 데이터로 생성\n",
    "- 자료형 데이터를 대입하여 반복문을 사용하는 경우 : for 변수명 in 자료형데이터:\n",
    "> while문\n",
    "- 초기값을 지정하고 while 조건식을 이용하여 조건식이 거짓이 될 때까지 코드를 반복 실행\n",
    "- 반복 실행하는 코드를 작성 한 뒤 마지막에 초기값을 변경해주는 증감식 작성\n",
    "- 반복문을 사용할 때 유의할 점 : 무한루프(조건식이 거짓이 될 수 있도록 조건식과 증감식 작성)\n",
    "> continue\n",
    "- 반복문으로 되돌아가는 구문\n",
    "- continue 밑의 코드를 실행하지 않고 반복문으로 되돌아가는 구문\n",
    "- 반복 실행 할 코드의 마지막에서 하는 행동을 코드 중간에서 강제로 지정\n",
    "- 코드 마지막에 continue를 작성하면 불필요한 코드\n",
    "> break\n",
    "- 반복문을 강제로 종료"
   ]
  },
  {
   "cell_type": "markdown",
   "metadata": {},
   "source": [
    "# pansdas 예제\n",
    "1. csv 폴더에 있는 Sales Records.csv 파일 로드 (read_csv()함수를 사용)\n",
    "2. Region, Country, Sales Channel, Units Sold, Unit Price, Unit Cost컬럼만 추출\n",
    "3. 컬럼의 이름을 변경 ( 권역, 국가, 개수, 판매채널, 단가, 원가 )\n",
    "4. 권역이라는 컬럼의 이름을 대륙 변경\n",
    "5. 총단가, 총원가, 총이윤 이라는 파생변수 생성 (소수점 2번째 자리까지 유지 반올림)\n",
    "    - 총단가 = 개수 * 단가\n",
    "    - 총원가 = 개수 * 원가\n",
    "    - 총이윤 = 총단가 - 총원가\n",
    "6. 대륙별 총이윤의 평균을 바형 그래프 표시 \n",
    "7. 대륙, 판매채널에 따른 총이윤의 합계를 바형 그래프 표시 "
   ]
  },
  {
   "cell_type": "code",
   "execution_count": null,
   "metadata": {},
   "outputs": [],
   "source": [
    "import pandas as pd\n",
    "import matplotlib.pyplot as plt"
   ]
  },
  {
   "cell_type": "code",
   "execution_count": null,
   "metadata": {},
   "outputs": [],
   "source": [
    "# 경고 메시지 출력을 하지 않는 설정\n",
    "import warnings\n",
    "warnings.filterwarnings('ignore')"
   ]
  },
  {
   "cell_type": "code",
   "execution_count": null,
   "metadata": {},
   "outputs": [],
   "source": [
    "# csv 파일을 로드 하는 함수 read_csv({파일의 경로}, encoding=?)\n",
    "# encoding은 기본값이 'utf-8'\n",
    "# 데이터에 한글이 존재하는 경우에는 decodeError가 발생할 수 있다. \n",
    "# encoding을 'cp949', 'euc-kr'로 변경\n",
    "# 파일의 경로는 절대경로, 상대경로 모두 사용 가능\n",
    "sales = pd.read_csv(\"./pandas/csv/Sales Records.csv\")"
   ]
  },
  {
   "cell_type": "code",
   "execution_count": null,
   "metadata": {},
   "outputs": [],
   "source": [
    "sales.head(3)"
   ]
  },
  {
   "cell_type": "code",
   "execution_count": null,
   "metadata": {},
   "outputs": [],
   "source": [
    "# 데이터프레임의 정보를 확인 하는 함수 : info()\n",
    "sales.info()"
   ]
  },
  {
   "cell_type": "code",
   "execution_count": null,
   "metadata": {},
   "outputs": [],
   "source": [
    "# 결측치의 개수를 확인 하는 방법\n",
    "sales.isna().sum()"
   ]
  },
  {
   "cell_type": "code",
   "execution_count": null,
   "metadata": {},
   "outputs": [],
   "source": [
    "# 데이터프레임에서 통계요약정보를 확인하는 함수 \n",
    "sales.describe()"
   ]
  },
  {
   "cell_type": "code",
   "execution_count": 10,
   "metadata": {},
   "outputs": [],
   "source": [
    "# 복사본 생성 copy()\n",
    "df = sales.copy()"
   ]
  },
  {
   "cell_type": "code",
   "execution_count": 15,
   "metadata": {},
   "outputs": [],
   "source": [
    "# 특정한 컬럼들만 출력\n",
    "df = df[['Region', 'Country', 'Sales Channel', 'Units Sold', 'Unit Price', 'Unit Cost']]\n",
    "\n",
    "# 특정한 컬럼들을 제외하고 나머지 컬럼을 삭제\n",
    "# 컬럼을 삭제하는 함수 drop({조건식}, axis = 0 | 1)\n",
    "# df.drop(['Sales Channel'], axis=1)\n"
   ]
  },
  {
   "cell_type": "code",
   "execution_count": 18,
   "metadata": {},
   "outputs": [
    {
     "data": {
      "text/html": [
       "<div>\n",
       "<style scoped>\n",
       "    .dataframe tbody tr th:only-of-type {\n",
       "        vertical-align: middle;\n",
       "    }\n",
       "\n",
       "    .dataframe tbody tr th {\n",
       "        vertical-align: top;\n",
       "    }\n",
       "\n",
       "    .dataframe thead th {\n",
       "        text-align: right;\n",
       "    }\n",
       "</style>\n",
       "<table border=\"1\" class=\"dataframe\">\n",
       "  <thead>\n",
       "    <tr style=\"text-align: right;\">\n",
       "      <th></th>\n",
       "      <th>권역</th>\n",
       "      <th>국가</th>\n",
       "      <th>판매채널</th>\n",
       "      <th>개수</th>\n",
       "      <th>단가</th>\n",
       "      <th>원가</th>\n",
       "    </tr>\n",
       "  </thead>\n",
       "  <tbody>\n",
       "    <tr>\n",
       "      <th>0</th>\n",
       "      <td>Sub-Saharan Africa</td>\n",
       "      <td>Chad</td>\n",
       "      <td>Online</td>\n",
       "      <td>4484</td>\n",
       "      <td>651.21</td>\n",
       "      <td>524.96</td>\n",
       "    </tr>\n",
       "  </tbody>\n",
       "</table>\n",
       "</div>"
      ],
      "text/plain": [
       "                   권역    국가    판매채널    개수      단가      원가\n",
       "0  Sub-Saharan Africa  Chad  Online  4484  651.21  524.96"
      ]
     },
     "execution_count": 18,
     "metadata": {},
     "output_type": "execute_result"
    }
   ],
   "source": [
    "# 전체 컬럼의 이름을 변경\n",
    "# DataFrame이라는 class에는 변수 3개(index, columns, values)\n",
    "df.columns = ['권역', '국가', '판매채널', '개수', '단가', '원가']\n",
    "df.head(1)"
   ]
  },
  {
   "cell_type": "code",
   "execution_count": 21,
   "metadata": {},
   "outputs": [],
   "source": [
    "# 특정 컬럼의 이름을 변경 rename(columns={ before : after })\n",
    "df.rename(columns = {\n",
    "    '권역' : '대륙'\n",
    "}, inplace=True)"
   ]
  },
  {
   "cell_type": "code",
   "execution_count": 22,
   "metadata": {},
   "outputs": [
    {
     "data": {
      "text/html": [
       "<div>\n",
       "<style scoped>\n",
       "    .dataframe tbody tr th:only-of-type {\n",
       "        vertical-align: middle;\n",
       "    }\n",
       "\n",
       "    .dataframe tbody tr th {\n",
       "        vertical-align: top;\n",
       "    }\n",
       "\n",
       "    .dataframe thead th {\n",
       "        text-align: right;\n",
       "    }\n",
       "</style>\n",
       "<table border=\"1\" class=\"dataframe\">\n",
       "  <thead>\n",
       "    <tr style=\"text-align: right;\">\n",
       "      <th></th>\n",
       "      <th>대륙</th>\n",
       "      <th>국가</th>\n",
       "      <th>판매채널</th>\n",
       "      <th>개수</th>\n",
       "      <th>단가</th>\n",
       "      <th>원가</th>\n",
       "      <th>총원가</th>\n",
       "      <th>총단가</th>\n",
       "      <th>총이윤</th>\n",
       "    </tr>\n",
       "  </thead>\n",
       "  <tbody>\n",
       "    <tr>\n",
       "      <th>0</th>\n",
       "      <td>Sub-Saharan Africa</td>\n",
       "      <td>Chad</td>\n",
       "      <td>Online</td>\n",
       "      <td>4484</td>\n",
       "      <td>651.21</td>\n",
       "      <td>524.96</td>\n",
       "      <td>2353920.64</td>\n",
       "      <td>2920025.64</td>\n",
       "      <td>566105.0</td>\n",
       "    </tr>\n",
       "  </tbody>\n",
       "</table>\n",
       "</div>"
      ],
      "text/plain": [
       "                   대륙    국가    판매채널    개수      단가      원가         총원가  \\\n",
       "0  Sub-Saharan Africa  Chad  Online  4484  651.21  524.96  2353920.64   \n",
       "\n",
       "          총단가       총이윤  \n",
       "0  2920025.64  566105.0  "
      ]
     },
     "execution_count": 22,
     "metadata": {},
     "output_type": "execute_result"
    }
   ],
   "source": [
    "# 새로운 파생변수 생성 \n",
    "# 소수점 2번째까지 유지 반올림 round(n)\n",
    "df['총원가'] = (df['개수'] * df['원가']).round(2)\n",
    "df['총단가'] = (df['개수'] * df['단가']).round(2)\n",
    "df['총이윤'] = df['총단가'] - df['총원가']\n",
    "df.head(1)"
   ]
  },
  {
   "cell_type": "markdown",
   "metadata": {},
   "source": [
    "### 그룹화 \n",
    "> groupby()\n",
    "- 특정한 컬럼을 지정하여 데이터들이 같은 값들을 그룹화\n",
    "- 그룹화된 데이터들의 평균이나 합계, 최소, 최대, 표준편차와 같은 통계량을 생성\n",
    "> pivot_table()\n",
    "- index, column, value를 지정하여 그룹화 \n",
    "- 그룹화된 데이터들의 통계량을 생성"
   ]
  },
  {
   "cell_type": "code",
   "execution_count": 24,
   "metadata": {},
   "outputs": [],
   "source": [
    "# 대륙별 총이윤의 평균을 데이터프레임 그룹화\n",
    "group_data = df[['대륙', '총이윤']].groupby(['대륙']).mean()"
   ]
  },
  {
   "cell_type": "code",
   "execution_count": 26,
   "metadata": {},
   "outputs": [],
   "source": [
    "import platform"
   ]
  },
  {
   "cell_type": "code",
   "execution_count": 27,
   "metadata": {},
   "outputs": [],
   "source": [
    "# 그래프의 한글 깨짐 방지하기 위해 폰트를 변경\n",
    "if platform.system() == 'Darwin':\n",
    "    plt.rc('font', family='AplleGothic')\n",
    "else:\n",
    "    plt.rc('font', family='Malgun Gothic')"
   ]
  },
  {
   "cell_type": "code",
   "execution_count": null,
   "metadata": {},
   "outputs": [],
   "source": [
    "# 그룹화된 데이터프레임을 바형 그래프 시각화\n",
    "group_data.plot.bar()"
   ]
  },
  {
   "cell_type": "code",
   "execution_count": 31,
   "metadata": {},
   "outputs": [],
   "source": [
    "# pivot_table()함수를 이용하여 그룹화\n",
    "# 대륙, 판매채널별 총이윤의 합계\n",
    "pivot_data = pd.pivot_table(\n",
    "    df, \n",
    "    index = '대륙', \n",
    "    columns = '판매채널', \n",
    "    values = '총이윤', \n",
    "    aggfunc= 'sum'\n",
    ")"
   ]
  },
  {
   "cell_type": "code",
   "execution_count": null,
   "metadata": {},
   "outputs": [],
   "source": [
    "pivot_data.plot.bar()"
   ]
  },
  {
   "cell_type": "code",
   "execution_count": 34,
   "metadata": {},
   "outputs": [],
   "source": [
    "group_data2 = df[['대륙', '판매채널', '총이윤']].groupby(['대륙', '판매채널']).sum()"
   ]
  },
  {
   "cell_type": "code",
   "execution_count": 39,
   "metadata": {},
   "outputs": [
    {
     "data": {
      "text/plain": [
       "<Axes: xlabel='대륙'>"
      ]
     },
     "execution_count": 39,
     "metadata": {},
     "output_type": "execute_result"
    },
    {
     "data": {
      "image/png": "[encoded data removed]",
      "text/plain": [
       "<Figure size 640x480 with 1 Axes>"
      ]
     },
     "metadata": {},
     "output_type": "display_data"
    }
   ],
   "source": [
    "# 인덱스의 데이터를 컬럼으로 이동 : unstack()\n",
    "group_data2.unstack().plot.bar()"
   ]
  }
 ],
 "metadata": {
  "kernelspec": {
   "display_name": "Python 3",
   "language": "python",
   "name": "python3"
  },
  "language_info": {
   "codemirror_mode": {
    "name": "ipython",
    "version": 3
   },
   "file_extension": ".py",
   "mimetype": "text/x-python",
   "name": "python",
   "nbconvert_exporter": "python",
   "pygments_lexer": "ipython3",
   "version": "3.10.9"
  }
 },
 "nbformat": 4,
 "nbformat_minor": 2
}
