{
 "cells": [
  {
   "cell_type": "markdown",
   "metadata": {},
   "source": [
    "### Class \n",
    "1. 변수 , 함수 결합\n",
    "2. 붕어빵 틀 \n",
    "    - 변수는 반죽, 소\n",
    "    - 함수는 붕어빵을 만드는 과정\n",
    "3. class 선언 할때 class 이름은 앞 글자를 대문자로 표시\n",
    "4. class 키워드를 이용해서 class 생성\n",
    "5. class에는 특수한 함수 존재\n",
    "    - 생성자 함수(초기화 함수)\n",
    "        - class를 생성할 때 한번만 실행되는 함수\n",
    "        - `__init__` 생성자 함수\n",
    "6. class에는 특수한 매개변수\n",
    "    - self 매개변수\n",
    "        - class의 위치(주소)를 뜻\n",
    "        - 메모리에 저장된 공간의 이름을 변수, self는 class가 저장되어있는 변수"
   ]
  },
  {
   "cell_type": "code",
   "execution_count": null,
   "metadata": {},
   "outputs": [],
   "source": [
    "# class 선언 \n",
    "\n",
    "class Test1:\n",
    "    a = 1\n",
    "\n",
    "    def func_1(self, x):\n",
    "        result = x + self.a\n",
    "        return result"
   ]
  },
  {
   "cell_type": "code",
   "execution_count": null,
   "metadata": {},
   "outputs": [],
   "source": [
    "# class 생성\n",
    "# 메모리 안에 특정한 공간에 class를 저장\n",
    "class_1 = Test1()"
   ]
  },
  {
   "cell_type": "code",
   "execution_count": null,
   "metadata": {},
   "outputs": [
    {
     "name": "stdout",
     "output_type": "stream",
     "text": [
      "1\n"
     ]
    }
   ],
   "source": [
    "print(class_1.a)"
   ]
  },
  {
   "cell_type": "code",
   "execution_count": null,
   "metadata": {},
   "outputs": [
    {
     "data": {
      "text/plain": [
       "6"
      ]
     },
     "metadata": {},
     "output_type": "display_data"
    }
   ],
   "source": [
    "class_1.func_1(5)"
   ]
  },
  {
   "cell_type": "code",
   "execution_count": null,
   "metadata": {},
   "outputs": [
    {
     "data": {
      "text/plain": [
       "'HELLO WORLD'"
      ]
     },
     "metadata": {},
     "output_type": "display_data"
    }
   ],
   "source": [
    "text = 'Hello World'\n",
    "\n",
    "text.upper()"
   ]
  },
  {
   "cell_type": "code",
   "execution_count": null,
   "metadata": {},
   "outputs": [
    {
     "name": "stdout",
     "output_type": "stream",
     "text": [
      "<class 'str'>\n"
     ]
    }
   ],
   "source": [
    "print(type(text))"
   ]
  },
  {
   "cell_type": "code",
   "execution_count": null,
   "metadata": {},
   "outputs": [],
   "source": [
    "# 생성자 함수가 존재하는 클래스를 선언\n",
    "\n",
    "class Test2:\n",
    "\n",
    "    # 생성자 함수 \n",
    "    def __init__(self, _x, _y):\n",
    "        self.x = _x\n",
    "        self.y = _y\n",
    "    \n",
    "    def add(self):\n",
    "        result = self.x + self.y\n",
    "        return result"
   ]
  },
  {
   "cell_type": "code",
   "execution_count": null,
   "metadata": {},
   "outputs": [],
   "source": [
    "# class 생성 \n",
    "# 생성자 함수가 존재함으로 class 생성 시 인자 값 필요\n",
    "class_2 = Test2(5, 3)"
   ]
  },
  {
   "cell_type": "code",
   "execution_count": null,
   "metadata": {},
   "outputs": [],
   "source": [
    "class_3 = Test2(10, 20)"
   ]
  },
  {
   "cell_type": "code",
   "execution_count": null,
   "metadata": {},
   "outputs": [
    {
     "name": "stdout",
     "output_type": "stream",
     "text": [
      "5 3\n",
      "10 20\n"
     ]
    }
   ],
   "source": [
    "print(class_2.x, class_2.y)\n",
    "print(class_3.x, class_3.y)"
   ]
  },
  {
   "cell_type": "code",
   "execution_count": null,
   "metadata": {},
   "outputs": [
    {
     "name": "stdout",
     "output_type": "stream",
     "text": [
      "8\n",
      "30\n"
     ]
    }
   ],
   "source": [
    "print(class_2.add())\n",
    "print(class_3.add())"
   ]
  },
  {
   "cell_type": "code",
   "execution_count": null,
   "metadata": {},
   "outputs": [],
   "source": [
    "# 유저의 정보를 입력하는 class 선언\n",
    "# self.변수 -> 생성이 되는 class마다 독립적인 변수 \n",
    "# class 변수 -> 같은 class를 가지고 class가 생성이 될때 공유 할 수 있는 변수 \n",
    "\n",
    "class User:\n",
    "    # class 변수 생성 -> 해당하는 class에서 공유하는 변수\n",
    "    user_list = []\n",
    "\n",
    "    # self변수 생성 -> 생성자 함수\n",
    "    def __init__(self, _name, _age, _phone):\n",
    "        self.name = _name\n",
    "        self.age = _age\n",
    "        self.phone = _phone\n",
    "        # class 변수에 이름 값을 추가 \n",
    "        self.user_list.append(_name)\n",
    "\n",
    "    def info(self):\n",
    "        result = f'이름은 {self.name} 나이는 {self.age} 휴대폰번호는 {self.phone}입니다.'\n",
    "        return result"
   ]
  },
  {
   "cell_type": "code",
   "execution_count": null,
   "metadata": {},
   "outputs": [],
   "source": [
    "user1 = User('kim', 20, '01012345678')\n",
    "user2 = User('park', 30, '01098765432')"
   ]
  },
  {
   "cell_type": "code",
   "execution_count": null,
   "metadata": {},
   "outputs": [
    {
     "name": "stdout",
     "output_type": "stream",
     "text": [
      "kim 20 01012345678 ['kim', 'park']\n",
      "park 30 01098765432 ['kim', 'park']\n"
     ]
    }
   ],
   "source": [
    "print(user1.name, user1.age, user1.phone, user1.user_list)\n",
    "print(user2.name, user2.age, user2.phone, user2.user_list)"
   ]
  },
  {
   "cell_type": "code",
   "execution_count": null,
   "metadata": {},
   "outputs": [],
   "source": [
    "# class의 상속\n",
    "# class class명(상속받을 클래스명):\n",
    "\n",
    "class Wallet(User):\n",
    "    # User 클래스에서 기능 \n",
    "        # 유저의 정보를 변수에 담아주는 생성자 함수 \n",
    "        # 유저의 정보를 되돌려주는 함수\n",
    "    \n",
    "    # 생성자 함수 -> User 클래스에 있는 생성자 함수 실행, self.변수 추가\n",
    "    def __init__(self, _name, _age, _phone, _brand, _balance):\n",
    "        self.brand = _brand\n",
    "        self.balance = _balance\n",
    "        # 부모클래스를 지정 : super()\n",
    "        super().__init__(_name, _age, _phone)\n",
    "\n",
    "    def wallet_info(self):\n",
    "        result = f'지갑의 소유자는 {self.name}이고 지갑의 잔액은 {self.balance}입니다. '\n",
    "        return result\n",
    "    \n",
    "    # 일을 하는 함수 \n",
    "    def work(self, _kind):\n",
    "        # 일의 종류에 따라 지갑의 잔액이 변경이 되는 코드 작성\n",
    "        if(_kind == 'hunt'):\n",
    "            self.balance += 500\n",
    "            result = f'{_kind}의 일을 완료하였습니다. 현재 잔액은 {self.balance}입니다. '\n",
    "        elif(_kind == 'serving'):\n",
    "            self.balance += 700\n",
    "            result = f'{_kind}의 일을 완료하였습니다. 현재 잔액은 {self.balance}입니다. '\n",
    "        else :\n",
    "            result = '일의 타입이 맞지 않습니다.'\n",
    "        \n",
    "        return result"
   ]
  },
  {
   "cell_type": "code",
   "execution_count": null,
   "metadata": {},
   "outputs": [],
   "source": [
    "# Wallet 클래스 생성 \n",
    "wallet1 = Wallet('kim', 20, '01012345678', 'gucci', 0)"
   ]
  },
  {
   "cell_type": "code",
   "execution_count": null,
   "metadata": {},
   "outputs": [
    {
     "data": {
      "text/plain": [
       "'이름은 kim 나이는 20 휴대폰번호는 01012345678입니다.'"
      ]
     },
     "metadata": {},
     "output_type": "display_data"
    }
   ],
   "source": [
    "wallet1.info()"
   ]
  },
  {
   "cell_type": "code",
   "execution_count": null,
   "metadata": {},
   "outputs": [
    {
     "data": {
      "text/plain": [
       "'지갑의 소유자는 kim이고 지갑의 잔액은 1000입니다. '"
      ]
     },
     "metadata": {},
     "output_type": "display_data"
    }
   ],
   "source": [
    "wallet1.wallet_info()"
   ]
  },
  {
   "cell_type": "code",
   "execution_count": null,
   "metadata": {},
   "outputs": [
    {
     "data": {
      "text/plain": [
       "'hunt의 일을 완료하였습니다. 현재 잔액은 1000입니다. '"
      ]
     },
     "metadata": {},
     "output_type": "display_data"
    }
   ],
   "source": [
    "wallet1.work('hunt')"
   ]
  },
  {
   "cell_type": "code",
   "execution_count": null,
   "metadata": {},
   "outputs": [],
   "source": [
    "wallet2 = Wallet('park', 30, '01098765432', 'chanel', 0)"
   ]
  },
  {
   "cell_type": "code",
   "execution_count": null,
   "metadata": {},
   "outputs": [
    {
     "data": {
      "text/plain": [
       "'지갑의 소유자는 park이고 지갑의 잔액은 0입니다. '"
      ]
     },
     "metadata": {},
     "output_type": "display_data"
    }
   ],
   "source": [
    "wallet2.wallet_info()"
   ]
  },
  {
   "cell_type": "code",
   "execution_count": null,
   "metadata": {},
   "outputs": [
    {
     "data": {
      "text/plain": [
       "'serving의 일을 완료하였습니다. 현재 잔액은 700입니다. '"
      ]
     },
     "metadata": {},
     "output_type": "display_data"
    }
   ],
   "source": [
    "wallet2.work('serving')"
   ]
  }
 ],
 "metadata": {
  "language_info": {
   "name": "python"
  },
  "orig_nbformat": 4
 },
 "nbformat": 4,
 "nbformat_minor": 2
}
