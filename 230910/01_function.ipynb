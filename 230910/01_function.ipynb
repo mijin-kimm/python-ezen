{
 "cells": [
  {
   "cell_type": "code",
   "execution_count": 3,
   "metadata": {},
   "outputs": [
    {
     "name": "stdout",
     "output_type": "stream",
     "text": [
      "True\n"
     ]
    }
   ],
   "source": [
    "# 파이썬에서 제공하는 내장 함수\n",
    "\n",
    "# 문자열 함수\n",
    "\n",
    "# 문자열을 대문자, 소문자의 형태로 변환\n",
    "\n",
    "x = 'A'\n",
    "y = 'a'\n",
    "\n",
    "# y라는 변수의 문자열을 대문자로 변환\n",
    "# upper()\n",
    "y = y.upper()\n",
    "\n",
    "print(x == y)"
   ]
  },
  {
   "cell_type": "code",
   "execution_count": 6,
   "metadata": {},
   "outputs": [],
   "source": [
    "# x를 소문자로 변환\n",
    "# lower()\n",
    "x = x.lower()"
   ]
  },
  {
   "cell_type": "code",
   "execution_count": 8,
   "metadata": {},
   "outputs": [
    {
     "data": {
      "text/plain": [
       "'Hello World'"
      ]
     },
     "execution_count": 8,
     "metadata": {},
     "output_type": "execute_result"
    }
   ],
   "source": [
    "a = 'Hello world'\n",
    "\n",
    "# 단어의 첫글자만 대문자로 변환하는 함수\n",
    "# title()\n",
    "a.title()"
   ]
  },
  {
   "cell_type": "code",
   "execution_count": 10,
   "metadata": {},
   "outputs": [
    {
     "data": {
      "text/plain": [
       "False"
      ]
     },
     "execution_count": 10,
     "metadata": {},
     "output_type": "execute_result"
    }
   ],
   "source": [
    "# 문자열 좌우 공백을 제거하는 함수\n",
    "text = '   Hello World  '\n",
    "text2 = 'Hello World'\n",
    "\n",
    "text == text2"
   ]
  },
  {
   "cell_type": "code",
   "execution_count": 12,
   "metadata": {},
   "outputs": [
    {
     "data": {
      "text/plain": [
       "'Hello World  '"
      ]
     },
     "execution_count": 12,
     "metadata": {},
     "output_type": "execute_result"
    }
   ],
   "source": [
    "# strip() : 좌우의 공백을 제거\n",
    "# lstrip() : 왼쪽의 공백을 제거\n",
    "# rstrip() : 오른쪽의 공백을 제거\n",
    "# strip({text}) : 좌우의 'text' 제거\n",
    "text.lstrip()"
   ]
  },
  {
   "cell_type": "code",
   "execution_count": 13,
   "metadata": {},
   "outputs": [
    {
     "data": {
      "text/plain": [
       "'   Hello World'"
      ]
     },
     "execution_count": 13,
     "metadata": {},
     "output_type": "execute_result"
    }
   ],
   "source": [
    "text.rstrip()"
   ]
  },
  {
   "cell_type": "code",
   "execution_count": 14,
   "metadata": {},
   "outputs": [
    {
     "data": {
      "text/plain": [
       "'Hello World'"
      ]
     },
     "execution_count": 14,
     "metadata": {},
     "output_type": "execute_result"
    }
   ],
   "source": [
    "text.strip()"
   ]
  },
  {
   "cell_type": "code",
   "execution_count": 16,
   "metadata": {},
   "outputs": [
    {
     "data": {
      "text/plain": [
       "'ello World'"
      ]
     },
     "execution_count": 16,
     "metadata": {},
     "output_type": "execute_result"
    }
   ],
   "source": [
    "text.strip().strip('H')"
   ]
  },
  {
   "cell_type": "code",
   "execution_count": 17,
   "metadata": {},
   "outputs": [
    {
     "data": {
      "text/plain": [
       "'Hi World'"
      ]
     },
     "execution_count": 17,
     "metadata": {},
     "output_type": "execute_result"
    }
   ],
   "source": [
    "# 선택한 문자열을 다른 문자열로 치환해주는 함수\n",
    "# replace({선택한 문자열}, {변경할 문자열})\n",
    "text2.replace('Hello', 'Hi')"
   ]
  },
  {
   "cell_type": "code",
   "execution_count": 20,
   "metadata": {},
   "outputs": [
    {
     "data": {
      "text/plain": [
       "'HelloWorld'"
      ]
     },
     "execution_count": 20,
     "metadata": {},
     "output_type": "execute_result"
    }
   ],
   "source": [
    "# replace를 이용하여 공백을 제거\n",
    "text.replace(' ', '')"
   ]
  },
  {
   "cell_type": "code",
   "execution_count": 22,
   "metadata": {},
   "outputs": [
    {
     "data": {
      "text/plain": [
       "['1', '2', '3', '4', '5']"
      ]
     },
     "execution_count": 22,
     "metadata": {},
     "output_type": "execute_result"
    }
   ],
   "source": [
    "# 특정한 문자열을 기준으로 데이터를 나눠주는 함수\n",
    "# split({특정한 문자열})\n",
    "# split() : 공백을 기준으로 데이터를 나눠준다.\n",
    "a = '1,2,3,4,5'\n",
    "\n",
    "a.split(',')"
   ]
  },
  {
   "cell_type": "code",
   "execution_count": 24,
   "metadata": {},
   "outputs": [
    {
     "data": {
      "text/plain": [
       "['a', 'b', 'c', 'd', 'e']"
      ]
     },
     "execution_count": 24,
     "metadata": {},
     "output_type": "execute_result"
    }
   ],
   "source": [
    "b = 'a b c d e'\n",
    "\n",
    "b.split()"
   ]
  },
  {
   "cell_type": "markdown",
   "metadata": {},
   "source": [
    "### 함수\n",
    "- 어떠한 입력 값을 가지고 작업을 실행하여 결과물을 되돌려준다.\n",
    "- def 키워드를 이용하여 함수를 선언\n",
    "    - 함수를 선언하는 과정에서 필요한 입력 값을 매개변수로 생성\n",
    "    - 함수를 호출하는 과정에서 매개변수에 들어갈 입력 값을 인자"
   ]
  },
  {
   "cell_type": "code",
   "execution_count": 26,
   "metadata": {},
   "outputs": [],
   "source": [
    "# 매개변수가 존재하지 않는 함수 선언\n",
    "# 함수는 같은 행동하고 같은 값을 되돌려준다.\n",
    "def func_1():\n",
    "    result = 'Hello World'\n",
    "    # 함수에서 특정한 데이터를 되돌려준다\n",
    "    return result"
   ]
  },
  {
   "cell_type": "code",
   "execution_count": 27,
   "metadata": {},
   "outputs": [
    {
     "name": "stdout",
     "output_type": "stream",
     "text": [
      "Hello World\n",
      "Hello World\n",
      "Hello World\n"
     ]
    }
   ],
   "source": [
    "print(func_1())\n",
    "print(func_1())\n",
    "print(func_1())"
   ]
  },
  {
   "cell_type": "code",
   "execution_count": 31,
   "metadata": {},
   "outputs": [],
   "source": [
    "# 매개변수가 존재하는 함수를 선언\n",
    "# 매개변수에 기본값을 설정\n",
    "def func_2(x = 'func'):\n",
    "    return x"
   ]
  },
  {
   "cell_type": "code",
   "execution_count": 32,
   "metadata": {},
   "outputs": [
    {
     "name": "stdout",
     "output_type": "stream",
     "text": [
      "1\n",
      "a\n",
      "True\n",
      "func\n"
     ]
    }
   ],
   "source": [
    "print(func_2(1))\n",
    "print(func_2('a'))\n",
    "print(func_2(True))\n",
    "print(func_2())"
   ]
  },
  {
   "cell_type": "code",
   "execution_count": 34,
   "metadata": {},
   "outputs": [],
   "source": [
    "def func_3(x, y):\n",
    "    result = x + y\n",
    "    return result"
   ]
  },
  {
   "cell_type": "code",
   "execution_count": 36,
   "metadata": {},
   "outputs": [
    {
     "name": "stdout",
     "output_type": "stream",
     "text": [
      "8\n",
      "1035\n"
     ]
    },
    {
     "ename": "TypeError",
     "evalue": "func_3() missing 1 required positional argument: 'y'",
     "output_type": "error",
     "traceback": [
      "\u001b[1;31m---------------------------------------------------------------------------\u001b[0m",
      "\u001b[1;31mTypeError\u001b[0m                                 Traceback (most recent call last)",
      "\u001b[1;32md:\\python\\python-ezen\\230910\\01_function.ipynb 셀 19\u001b[0m line \u001b[0;36m3\n\u001b[0;32m      <a href='vscode-notebook-cell:/d%3A/python/python-ezen/230910/01_function.ipynb#X26sZmlsZQ%3D%3D?line=0'>1</a>\u001b[0m \u001b[39mprint\u001b[39m(func_3(\u001b[39m5\u001b[39m, \u001b[39m3\u001b[39m))\n\u001b[0;32m      <a href='vscode-notebook-cell:/d%3A/python/python-ezen/230910/01_function.ipynb#X26sZmlsZQ%3D%3D?line=1'>2</a>\u001b[0m \u001b[39mprint\u001b[39m(func_3(\u001b[39m123\u001b[39m, \u001b[39m912\u001b[39m))\n\u001b[1;32m----> <a href='vscode-notebook-cell:/d%3A/python/python-ezen/230910/01_function.ipynb#X26sZmlsZQ%3D%3D?line=2'>3</a>\u001b[0m \u001b[39mprint\u001b[39m(func_3(\u001b[39m10\u001b[39;49m))\n",
      "\u001b[1;31mTypeError\u001b[0m: func_3() missing 1 required positional argument: 'y'"
     ]
    }
   ],
   "source": [
    "print(func_3(5, 3))\n",
    "print(func_3(123, 912))\n",
    "print(func_3(10))\n"
   ]
  },
  {
   "cell_type": "code",
   "execution_count": 38,
   "metadata": {},
   "outputs": [],
   "source": [
    "def func_4(a, b):\n",
    "    result = a ** b\n",
    "    return result"
   ]
  },
  {
   "cell_type": "code",
   "execution_count": 40,
   "metadata": {},
   "outputs": [
    {
     "name": "stdout",
     "output_type": "stream",
     "text": [
      "25\n"
     ]
    }
   ],
   "source": [
    "print(func_4(5, 2)) # a에는 5를 대입, b에는 2를 대입 -> 결과 5^2 = 25\n"
   ]
  },
  {
   "cell_type": "code",
   "execution_count": 41,
   "metadata": {},
   "outputs": [
    {
     "name": "stdout",
     "output_type": "stream",
     "text": [
      "32\n"
     ]
    }
   ],
   "source": [
    "print(func_4(b=5, a=2))  # a에 2를 대입, b에 5를 대입 -> 결과 2^5 = 30"
   ]
  },
  {
   "cell_type": "code",
   "execution_count": 42,
   "metadata": {},
   "outputs": [],
   "source": [
    "# 함수를 생성\n",
    "# 매개변수 2개(x, y)\n",
    "# x부터 y까지의 합계를 되돌려주는 함수를 생성\n",
    "def func_5(x, y):\n",
    "    # 합계라는 초기값을 생성\n",
    "    result = 0\n",
    "    # 반복문을 이용하여 누적합\n",
    "    for i in range(x, y+1, 1):\n",
    "        # result 누적합\n",
    "        result = result + i\n",
    "        # result += i\n",
    "\n",
    "\n",
    "    return result"
   ]
  },
  {
   "cell_type": "code",
   "execution_count": 47,
   "metadata": {},
   "outputs": [
    {
     "name": "stdout",
     "output_type": "stream",
     "text": [
      "55\n",
      "5050\n",
      "0\n"
     ]
    }
   ],
   "source": [
    "print(func_5(1, 10))\n",
    "print(func_5(1, 100))\n",
    "print(func_5(100, 1))"
   ]
  },
  {
   "cell_type": "code",
   "execution_count": 59,
   "metadata": {},
   "outputs": [],
   "source": [
    "# 매개변수 x, y의 값을 포함한 사이값의 합계 함수 생성\n",
    "\n",
    "# 함수 생성 func_6 -> 매개변수 2개 (x, y)\n",
    "def func_6(x, y):\n",
    "    # 합계라는 변수를 생성하여 0을 대입\n",
    "    result = 0\n",
    "    # x가 y보다 작다면\n",
    "    if (x < y) :\n",
    "       # x부터 y+1까지 반복하는 반복문을 생성\n",
    "         for i in range(x, y+1, 1):\n",
    "          # result의 i의 값들을 누적합\n",
    "          result += i\n",
    "\n",
    "    # x가 y보다 크거나 같다면 \n",
    "    if (x >= y): # else\n",
    "       # y부터 x+1까지 반복하는 반복문을 생성\n",
    "         for i in range(y, x+1, 1):\n",
    "          # result에 i의 값들을 누적합\n",
    "          result += i\n",
    "    # result를 되돌려준다.\n",
    "    return result"
   ]
  },
  {
   "cell_type": "code",
   "execution_count": 61,
   "metadata": {},
   "outputs": [
    {
     "name": "stdout",
     "output_type": "stream",
     "text": [
      "55\n",
      "55\n"
     ]
    }
   ],
   "source": [
    "print(func_6(1, 10))\n",
    "print(func_6(10, 1))"
   ]
  },
  {
   "cell_type": "code",
   "execution_count": 64,
   "metadata": {},
   "outputs": [],
   "source": [
    "def func_7(x, y):\n",
    "    result = 0\n",
    "\n",
    "    # 두개의 값 중 작은 값을 되돌려주는 함수 : min()\n",
    "    # 두개의 값 중 큰 값을 되돌려주는 함수 : max()\n",
    "    for i in range(min(x, y), max(x, y)+1, 1):\n",
    "        result += i\n",
    "\n",
    "    return result"
   ]
  },
  {
   "cell_type": "code",
   "execution_count": 66,
   "metadata": {},
   "outputs": [
    {
     "name": "stdout",
     "output_type": "stream",
     "text": [
      "55\n",
      "55\n"
     ]
    }
   ],
   "source": [
    "print(func_7(1, 10))\n",
    "print(func_7(10, 1))"
   ]
  },
  {
   "cell_type": "code",
   "execution_count": 67,
   "metadata": {},
   "outputs": [],
   "source": [
    "# 인자의 개수가 가변인 경우\n",
    "def func_8(*args):\n",
    "    return args"
   ]
  },
  {
   "cell_type": "code",
   "execution_count": 68,
   "metadata": {},
   "outputs": [
    {
     "name": "stdout",
     "output_type": "stream",
     "text": [
      "(1, 2, 3)\n",
      "('a', 'b')\n",
      "()\n"
     ]
    }
   ],
   "source": [
    "print(func_8(1, 2, 3))\n",
    "print(func_8('a', 'b'))\n",
    "print(func_8())"
   ]
  },
  {
   "cell_type": "code",
   "execution_count": 74,
   "metadata": {},
   "outputs": [],
   "source": [
    "# 인자 값들의 합계를 구하는 함수 생성\n",
    "# 인자의 개수는 가변이고 인자값들을 모두 더해주는 함수\n",
    "\n",
    "def func_9(*args):\n",
    "    # args의 데이터 타입은 튜플\n",
    "    # 합계라는 변수 생성\n",
    "    result = 0\n",
    "\n",
    "    for i in args:\n",
    "        result += i\n",
    "\n",
    "    return result"
   ]
  },
  {
   "cell_type": "code",
   "execution_count": 75,
   "metadata": {},
   "outputs": [
    {
     "name": "stdout",
     "output_type": "stream",
     "text": [
      "15\n",
      "45\n"
     ]
    }
   ],
   "source": [
    "print(func_9(3, 5, 7))\n",
    "print(func_9(1,2,3,4,5,6,7,8,9))"
   ]
  },
  {
   "cell_type": "code",
   "execution_count": 76,
   "metadata": {},
   "outputs": [
    {
     "name": "stdout",
     "output_type": "stream",
     "text": [
      "('h', 'e', 'l', 'l', 'o')\n"
     ]
    }
   ],
   "source": [
    "a = ('h', 'e', 'l', 'l', 'o')\n",
    "print(a)"
   ]
  },
  {
   "cell_type": "code",
   "execution_count": 77,
   "metadata": {},
   "outputs": [
    {
     "name": "stdout",
     "output_type": "stream",
     "text": [
      "e\n"
     ]
    }
   ],
   "source": [
    "# 튜플에서 2번째 데이터만 추출하려면?\n",
    "print(a[1])"
   ]
  },
  {
   "cell_type": "code",
   "execution_count": 80,
   "metadata": {},
   "outputs": [],
   "source": [
    "# while문 함수\n",
    "\n",
    "def func_10(*args):\n",
    "    # 합계의 초기값 지정\n",
    "    result = 0\n",
    "\n",
    "    # while 조건식의 초기값 지정\n",
    "    i = 0\n",
    "\n",
    "    # while문 생성\n",
    "    while i < len(args):\n",
    "        result += args[i]\n",
    "        # 증감식 생성\n",
    "        i += 1\n",
    "    \n",
    "    return result\n",
    "\n",
    "\n"
   ]
  },
  {
   "cell_type": "code",
   "execution_count": 81,
   "metadata": {},
   "outputs": [
    {
     "name": "stdout",
     "output_type": "stream",
     "text": [
      "15\n",
      "45\n"
     ]
    }
   ],
   "source": [
    "print(func_10(3, 5, 7))\n",
    "print(func_10(1,2,3,4,5,6,7,8,9))"
   ]
  },
  {
   "cell_type": "code",
   "execution_count": 84,
   "metadata": {},
   "outputs": [
    {
     "name": "stdout",
     "output_type": "stream",
     "text": [
      "10\n"
     ]
    },
    {
     "ename": "NameError",
     "evalue": "name 'result' is not defined",
     "output_type": "error",
     "traceback": [
      "\u001b[1;31m---------------------------------------------------------------------------\u001b[0m",
      "\u001b[1;31mNameError\u001b[0m                                 Traceback (most recent call last)",
      "\u001b[1;32md:\\python\\python-ezen\\230910\\01_function.ipynb 셀 37\u001b[0m line \u001b[0;36m1\n\u001b[0;32m     <a href='vscode-notebook-cell:/d%3A/python/python-ezen/230910/01_function.ipynb#X53sZmlsZQ%3D%3D?line=15'>16</a>\u001b[0m \u001b[39m# 함수 호출\u001b[39;00m\n\u001b[0;32m     <a href='vscode-notebook-cell:/d%3A/python/python-ezen/230910/01_function.ipynb#X53sZmlsZQ%3D%3D?line=16'>17</a>\u001b[0m \u001b[39mprint\u001b[39m(func_11([\u001b[39m1\u001b[39m,\u001b[39m2\u001b[39m,\u001b[39m3\u001b[39m,\u001b[39m4\u001b[39m]))\n\u001b[1;32m---> <a href='vscode-notebook-cell:/d%3A/python/python-ezen/230910/01_function.ipynb#X53sZmlsZQ%3D%3D?line=18'>19</a>\u001b[0m \u001b[39mprint\u001b[39m(result)\n",
      "\u001b[1;31mNameError\u001b[0m: name 'result' is not defined"
     ]
    }
   ],
   "source": [
    "# 매겨변수에 자료형 데이터를 입력\n",
    "\n",
    "# 합계 구하는 함수\n",
    "\n",
    "def func_11(x):\n",
    "    result = 0\n",
    "\n",
    "    for i in x:\n",
    "        result += i\n",
    "\n",
    "    return result\n",
    "\n",
    "\n",
    "\n",
    "\n",
    "# 함수 호출\n",
    "print(func_11([1,2,3,4]))\n",
    "\n",
    "print(result)"
   ]
  },
  {
   "cell_type": "markdown",
   "metadata": {},
   "source": [
    "### 변수(데이터가 저장되어 있는 공간의 이름)의 종류\n",
    "1. 전역 변수\n",
    "    - 어디서든 사용이 가능한 변수\n",
    "    - 함수 내부에서든 외부에서든 사용이 가능\n",
    "2. 지역 변수\n",
    "    - 특정한 영역에서만 사용이 가능한 변수\n",
    "    - 함수, 클래스 안에서만 사용이 가능한 변수\n",
    "    - 해당 영역을 벗어나면 사용이 불가능\n",
    "3. 매개 변수\n",
    "    - 함수를 선언할 때 만드는 변수\n",
    "    - 함수 내에서 인자 값을 받아서 사용하기 위한 변수\n",
    "    - 함수 밖에서는 사용이 불가능(휘발성 데이터)"
   ]
  },
  {
   "cell_type": "code",
   "execution_count": 86,
   "metadata": {},
   "outputs": [
    {
     "name": "stdout",
     "output_type": "stream",
     "text": [
      "Hello World\n"
     ]
    }
   ],
   "source": [
    "text = 'Hello World'\n",
    "\n",
    "print(text)"
   ]
  },
  {
   "cell_type": "code",
   "execution_count": 88,
   "metadata": {},
   "outputs": [
    {
     "name": "stdout",
     "output_type": "stream",
     "text": [
      "Hi\n"
     ]
    }
   ],
   "source": [
    "def func_12():\n",
    "    _text = 'Hi'\n",
    "    return _text\n",
    "\n",
    "print(func_12())"
   ]
  },
  {
   "cell_type": "code",
   "execution_count": 89,
   "metadata": {},
   "outputs": [
    {
     "ename": "NameError",
     "evalue": "name '_text' is not defined",
     "output_type": "error",
     "traceback": [
      "\u001b[1;31m---------------------------------------------------------------------------\u001b[0m",
      "\u001b[1;31mNameError\u001b[0m                                 Traceback (most recent call last)",
      "\u001b[1;32md:\\python\\python-ezen\\230910\\01_function.ipynb 셀 41\u001b[0m line \u001b[0;36m1\n\u001b[1;32m----> <a href='vscode-notebook-cell:/d%3A/python/python-ezen/230910/01_function.ipynb#X62sZmlsZQ%3D%3D?line=0'>1</a>\u001b[0m \u001b[39mprint\u001b[39m(_text)\n",
      "\u001b[1;31mNameError\u001b[0m: name '_text' is not defined"
     ]
    }
   ],
   "source": [
    "print(_text)"
   ]
  },
  {
   "cell_type": "code",
   "execution_count": 94,
   "metadata": {},
   "outputs": [
    {
     "name": "stdout",
     "output_type": "stream",
     "text": [
      "[1, 4, 9, 16]\n"
     ]
    }
   ],
   "source": [
    "# 함수 문제\n",
    "# 배열 데이터를 입력받아서 해당하는 배열을 제곱한 리스트를 출력하는 함수\n",
    "# [1,2,3,4] -> [1,4,9,16]\n",
    "\n",
    "# 함수를 생성 (매개변수(x) 1개 -> 입력값은 배열 데이터)\n",
    "def func_13(x):\n",
    "    # 비어있는 리스트 하나 생성\n",
    "    result = []\n",
    "    # 배열 데이터를 반복하는 반복문을 생성\n",
    "    for i in x:\n",
    "        # 배열 데이터 하나씩 추출하여 제곱한 뒤 비어있는 리스트에 추가\n",
    "        result.append(i**2)\n",
    "    # 비어있는 리스트를 되돌려준다.\n",
    "    return result\n",
    "\n",
    "print(func_13([1,2,3,4]))"
   ]
  },
  {
   "cell_type": "code",
   "execution_count": 96,
   "metadata": {},
   "outputs": [
    {
     "name": "stdout",
     "output_type": "stream",
     "text": [
      "[1, 4, 9, 16]\n"
     ]
    }
   ],
   "source": [
    "# while문 함수로 생성\n",
    "\n",
    "def func_14(x):\n",
    "    result = []\n",
    "\n",
    "    i = 0\n",
    "\n",
    "    while i < len(x):\n",
    "        # i 데이터는 ? -> x의 위치값\n",
    "        result.append(x[i]**2)\n",
    "        # 증감식 생성\n",
    "        i += 1\n",
    "\n",
    "\n",
    "    return result\n",
    "print(func_14([1,2,3,4]))"
   ]
  },
  {
   "cell_type": "code",
   "execution_count": null,
   "metadata": {},
   "outputs": [],
   "source": []
  }
 ],
 "metadata": {
  "kernelspec": {
   "display_name": "Python 3",
   "language": "python",
   "name": "python3"
  },
  "language_info": {
   "codemirror_mode": {
    "name": "ipython",
    "version": 3
   },
   "file_extension": ".py",
   "mimetype": "text/x-python",
   "name": "python",
   "nbconvert_exporter": "python",
   "pygments_lexer": "ipython3",
   "version": "3.11.5"
  },
  "orig_nbformat": 4
 },
 "nbformat": 4,
 "nbformat_minor": 2
}
