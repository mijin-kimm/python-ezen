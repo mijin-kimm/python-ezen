{
 "cells": [
  {
   "cell_type": "code",
   "execution_count": null,
   "metadata": {},
   "outputs": [],
   "source": [
    "import pandas as pd"
   ]
  },
  {
   "cell_type": "markdown",
   "metadata": {},
   "source": [
    "1. csv폴더에 있는 uriage.csv 로드 \n",
    "2. 데이터의 이상 체크 \n",
    "    - 결측치가 존재하는가?\n",
    "    - 데이터의 정형화가 잘 되어있는가?\n",
    "3. 문제가 있는 데이터를 수정(데이터의 전처리)"
   ]
  },
  {
   "cell_type": "code",
   "execution_count": null,
   "metadata": {},
   "outputs": [],
   "source": [
    "uriage = pd.read_csv(\"../csv/uriage.csv\")"
   ]
  },
  {
   "cell_type": "code",
   "execution_count": null,
   "metadata": {},
   "outputs": [],
   "source": [
    "# 결측치가 존재하는가?\n",
    "uriage.info()"
   ]
  },
  {
   "cell_type": "code",
   "execution_count": null,
   "metadata": {},
   "outputs": [],
   "source": [
    "# 결측치의 개수를 확인\n",
    "uriage.isna().sum()"
   ]
  },
  {
   "cell_type": "code",
   "execution_count": null,
   "metadata": {},
   "outputs": [],
   "source": [
    "uriage.head()"
   ]
  },
  {
   "cell_type": "code",
   "execution_count": null,
   "metadata": {},
   "outputs": [],
   "source": [
    "# item_name의 데이터가 대,소문자 문제\n",
    "# 해결방법 -> 대문자, 소문자 하나로 통일\n",
    "uriage['item_name'].str.upper()"
   ]
  },
  {
   "cell_type": "code",
   "execution_count": null,
   "metadata": {},
   "outputs": [],
   "source": [
    "# apply(일반함수)\n",
    "def change(x):\n",
    "    # 매개변수 x에 들어오는 데이터는? -> item_name에 각각의 데이터들\n",
    "    # 매개변수 x의 데이터의 타입은 문자열\n",
    "    result = x.upper()\n",
    "    return result\n",
    "\n",
    "uriage['item_name'].apply(change)"
   ]
  },
  {
   "cell_type": "code",
   "execution_count": null,
   "metadata": {},
   "outputs": [],
   "source": [
    "# apply(lambda함수)\n",
    "\n",
    "uriage['item_name'].apply(\n",
    "    lambda x : x.upper()\n",
    ")"
   ]
  },
  {
   "cell_type": "code",
   "execution_count": null,
   "metadata": {},
   "outputs": [],
   "source": [
    "# item_name의 데이터가 문자열 사이에 공백이 존재\n",
    "# 해결방법 -> 문자열에 공백을 모두 제거 \n",
    "uriage['item_name'].str.replace(' ', '')"
   ]
  },
  {
   "cell_type": "code",
   "execution_count": null,
   "metadata": {},
   "outputs": [],
   "source": [
    "# 스리즈형태의 데이터를 공백을 제거 대문자로 변환\n",
    "\n",
    "def change(x):\n",
    "    # result = x.upper()\n",
    "    # result = result.replace(\" \", \"\")\n",
    "    result = x.upper().replace(\" \", \"\")\n",
    "    return result\n",
    "\n",
    "uriage['item_name'].apply(change)"
   ]
  },
  {
   "cell_type": "code",
   "execution_count": null,
   "metadata": {},
   "outputs": [],
   "source": [
    "uriage['item_name'].apply(\n",
    "    lambda x : x.upper().replace(\" \", \"\")\n",
    ")"
   ]
  },
  {
   "cell_type": "code",
   "execution_count": null,
   "metadata": {},
   "outputs": [],
   "source": [
    "uriage['item_name'] = uriage['item_name'].str.upper().str.replace(\" \", \"\")"
   ]
  },
  {
   "cell_type": "code",
   "execution_count": null,
   "metadata": {},
   "outputs": [],
   "source": [
    "# item_name의 값들의 개수 출력\n",
    "uriage['item_name'].value_counts()"
   ]
  },
  {
   "cell_type": "code",
   "execution_count": null,
   "metadata": {},
   "outputs": [],
   "source": [
    "import numpy as np"
   ]
  },
  {
   "cell_type": "code",
   "execution_count": null,
   "metadata": {},
   "outputs": [],
   "source": [
    "# 결측치에 비교연산자를 사용하면 False로 고정\n",
    "\n",
    "a = np.nan\n",
    "b = np.nan\n",
    "print(a == b)"
   ]
  },
  {
   "cell_type": "code",
   "execution_count": null,
   "metadata": {},
   "outputs": [],
   "source": [
    "# item_price가 결측치인 데이터들을 확인\n",
    "uriage.loc[uriage['item_price'].isna() == 0]"
   ]
  },
  {
   "cell_type": "code",
   "execution_count": null,
   "metadata": {},
   "outputs": [],
   "source": [
    "# ~ 연산자는 스리즈형태 데이터가 bool형태일때 부정연산자로 사용이 가능\n",
    "uriage.loc[~(uriage['item_price'].isna())]"
   ]
  },
  {
   "cell_type": "code",
   "execution_count": null,
   "metadata": {},
   "outputs": [],
   "source": [
    "# 상품A인 경우에는 결측치를 item_name이 상품A이고 item_price의 결측치를 제외한 평균값으로 대체\n",
    "\n",
    "flag = uriage['item_name'] == '상품A'\n",
    "flag_null = uriage['item_price'].isna()\n",
    "\n",
    "# 조건식을 이용하여 item_name이 상품A이고 item_price가 결측치인 데이터를 확인\n",
    "price_mean = uriage.loc[ flag & (flag_null == 0) , 'item_price'].mean()"
   ]
  },
  {
   "cell_type": "code",
   "execution_count": null,
   "metadata": {},
   "outputs": [],
   "source": [
    "uriage2 = uriage.copy()"
   ]
  },
  {
   "cell_type": "code",
   "execution_count": null,
   "metadata": {},
   "outputs": [],
   "source": [
    "# 상품A인 데이터에서 item_price가 결측치인 데이터에 price_mean를 대체\n",
    "\n",
    "uriage2.loc[flag & flag_null] = uriage2.loc[flag & flag_null].fillna(price_mean)"
   ]
  },
  {
   "cell_type": "code",
   "execution_count": null,
   "metadata": {},
   "outputs": [],
   "source": [
    "uriage2.loc[flag & flag_null]"
   ]
  },
  {
   "cell_type": "code",
   "execution_count": null,
   "metadata": {},
   "outputs": [],
   "source": [
    "# 스리즈형태의 데이터에 = '값'\n",
    "uriage2['customer_age'] = 20"
   ]
  },
  {
   "cell_type": "code",
   "execution_count": null,
   "metadata": {},
   "outputs": [],
   "source": [
    "uriage2['customer_age']"
   ]
  },
  {
   "cell_type": "code",
   "execution_count": null,
   "metadata": {},
   "outputs": [],
   "source": [
    "# item_name이 상품A이고 item_price가 결측치인 데이터에 price_mean를 대입\n",
    "uriage.loc[flag & flag_null, 'item_price'] = price_mean"
   ]
  },
  {
   "cell_type": "code",
   "execution_count": null,
   "metadata": {},
   "outputs": [],
   "source": [
    "uriage.loc[flag].isna().sum()"
   ]
  },
  {
   "cell_type": "code",
   "execution_count": null,
   "metadata": {},
   "outputs": [],
   "source": [
    "# in 연산자\n",
    "# 자료형 데이터에 해당하는 값이 포함되어있는지 비교\n",
    "# not in 연산자 \n",
    "# 자료형 데이터에 해당하는 값이 포함되어있지 않는 경우를 비교\n",
    "_list = ['a', 'b', 'c']\n",
    "\n",
    "print('a' not in _list)\n",
    "print('d' in _list)"
   ]
  },
  {
   "cell_type": "code",
   "execution_count": null,
   "metadata": {},
   "outputs": [],
   "source": [
    "# item_name의 데이터를 중복데이터가 없이 리스트형태로 출력\n",
    "\n",
    "# case1(중복된 데이터를 추가하지 않고 새로운 데이터만 배열에 추가)\n",
    "item_list = []\n",
    "\n",
    "for item in uriage['item_name']:\n",
    "    # print(item)\n",
    "    # item이 item_list에 포함되어있다면 아무런 행동하지 않는다. \n",
    "    # 포함되어있지 않다면 item_list item 추가\n",
    "    if item not in item_list:\n",
    "        item_list.append(item)\n",
    "\n",
    "item_list\n"
   ]
  },
  {
   "cell_type": "code",
   "execution_count": null,
   "metadata": {},
   "outputs": [],
   "source": [
    "# 집합형 데이터로 변환 -> list 형태로 변환\n",
    "list(set(uriage['item_name']))"
   ]
  },
  {
   "cell_type": "code",
   "execution_count": null,
   "metadata": {},
   "outputs": [],
   "source": [
    "# value_counts()를 이용하여 고유한 값을 출력\n",
    "uriage['item_name'].value_counts().index"
   ]
  },
  {
   "cell_type": "code",
   "execution_count": null,
   "metadata": {},
   "outputs": [],
   "source": [
    "uriage['item_name'].unique()"
   ]
  },
  {
   "cell_type": "code",
   "execution_count": null,
   "metadata": {},
   "outputs": [],
   "source": [
    "uriage3 = uriage.copy()"
   ]
  },
  {
   "cell_type": "code",
   "execution_count": 87,
   "metadata": {},
   "outputs": [
    {
     "data": {
      "text/plain": [
       "['상품A',\n",
       " '상품S',\n",
       " '상품Z',\n",
       " '상품V',\n",
       " '상품O',\n",
       " '상품U',\n",
       " '상품L',\n",
       " '상품C',\n",
       " '상품I',\n",
       " '상품R',\n",
       " '상품X',\n",
       " '상품G',\n",
       " '상품P',\n",
       " '상품Q',\n",
       " '상품Y',\n",
       " '상품N',\n",
       " '상품W',\n",
       " '상품E',\n",
       " '상품K',\n",
       " '상품B',\n",
       " '상품F',\n",
       " '상품D',\n",
       " '상품M',\n",
       " '상품H',\n",
       " '상품T',\n",
       " '상품J']"
      ]
     },
     "execution_count": 87,
     "metadata": {},
     "output_type": "execute_result"
    }
   ],
   "source": [
    "item_list"
   ]
  },
  {
   "cell_type": "code",
   "execution_count": 88,
   "metadata": {},
   "outputs": [
    {
     "name": "stdout",
     "output_type": "stream",
     "text": [
      "상품A\n",
      "상품S\n",
      "상품Z\n",
      "상품V\n",
      "상품O\n",
      "상품U\n",
      "상품L\n",
      "상품C\n",
      "상품I\n",
      "상품R\n",
      "상품X\n",
      "상품G\n",
      "상품P\n",
      "상품Q\n",
      "상품Y\n",
      "상품N\n",
      "상품W\n",
      "상품E\n",
      "상품K\n",
      "상품B\n",
      "상품F\n",
      "상품D\n",
      "상품M\n",
      "상품H\n",
      "상품T\n",
      "상품J\n"
     ]
    }
   ],
   "source": [
    "# item_list 자료형 데이터를 이용하여 반복문 작성\n",
    "for item in item_list:\n",
    "    # item 변수에는 item_list의 원소들이 하나씩 대입하여 반복\n",
    "    print(item)\n",
    "\n",
    "    flag = uriage['item_name'] == item\n",
    "    flag_null = uriage['item_price'].isna()\n",
    "\n",
    "    # 조건식을 이용하여 item_name이 상품A이고 item_price가 결측치 아닌 데이터의 평균\n",
    "    price_mean = uriage.loc[ flag & ~flag_null , 'item_price'].mean()\n",
    "    # 상품명의 조건과 item_price가 결측치인 데이터에 item_price컬러 데이터에 price_mean 대입\n",
    "    uriage.loc[flag & flag_null, 'item_price'] = price_mean"
   ]
  },
  {
   "cell_type": "code",
   "execution_count": null,
   "metadata": {},
   "outputs": [],
   "source": [
    "uriage.info()"
   ]
  },
  {
   "cell_type": "code",
   "execution_count": 71,
   "metadata": {},
   "outputs": [
    {
     "data": {
      "text/plain": [
       "item_price\n",
       "1800.0    136\n",
       "Name: count, dtype: int64"
      ]
     },
     "execution_count": 71,
     "metadata": {},
     "output_type": "execute_result"
    }
   ],
   "source": [
    "uriage.loc[ uriage['item_name'] == '상품R' , \"item_price\"].value_counts()"
   ]
  },
  {
   "cell_type": "code",
   "execution_count": 82,
   "metadata": {},
   "outputs": [],
   "source": [
    "# map 함수를 이용하여 결측치 데이터를 대입\n",
    "def na_fill(item):\n",
    "    flag = uriage3['item_name'] == item\n",
    "    flag_null = uriage3['item_price'].isna()\n",
    "\n",
    "    # 조건식을 이용하여 item_name이 상품A이고 item_price가 결측치 아닌 데이터의 평균\n",
    "    price_mean = uriage3.loc[ flag & ~flag_null , 'item_price'].mean()\n",
    "    # 상품명의 조건과 item_price가 결측치인 데이터에 item_price컬러 데이터에 price_mean 대입\n",
    "    uriage3.loc[flag & flag_null, 'item_price'] = price_mean\n",
    "    result = f'{item}컬럼 결측치 작업 완료'\n",
    "    return result"
   ]
  },
  {
   "cell_type": "code",
   "execution_count": null,
   "metadata": {},
   "outputs": [],
   "source": [
    "item_list"
   ]
  },
  {
   "cell_type": "code",
   "execution_count": 85,
   "metadata": {},
   "outputs": [
    {
     "data": {
      "text/plain": [
       "['상품A컬럼 결측치 작업 완료',\n",
       " '상품S컬럼 결측치 작업 완료',\n",
       " '상품Z컬럼 결측치 작업 완료',\n",
       " '상품V컬럼 결측치 작업 완료',\n",
       " '상품O컬럼 결측치 작업 완료',\n",
       " '상품U컬럼 결측치 작업 완료',\n",
       " '상품L컬럼 결측치 작업 완료',\n",
       " '상품C컬럼 결측치 작업 완료',\n",
       " '상품I컬럼 결측치 작업 완료',\n",
       " '상품R컬럼 결측치 작업 완료',\n",
       " '상품X컬럼 결측치 작업 완료',\n",
       " '상품G컬럼 결측치 작업 완료',\n",
       " '상품P컬럼 결측치 작업 완료',\n",
       " '상품Q컬럼 결측치 작업 완료',\n",
       " '상품Y컬럼 결측치 작업 완료',\n",
       " '상품N컬럼 결측치 작업 완료',\n",
       " '상품W컬럼 결측치 작업 완료',\n",
       " '상품E컬럼 결측치 작업 완료',\n",
       " '상품K컬럼 결측치 작업 완료',\n",
       " '상품B컬럼 결측치 작업 완료',\n",
       " '상품F컬럼 결측치 작업 완료',\n",
       " '상품D컬럼 결측치 작업 완료',\n",
       " '상품M컬럼 결측치 작업 완료',\n",
       " '상품H컬럼 결측치 작업 완료',\n",
       " '상품T컬럼 결측치 작업 완료',\n",
       " '상품J컬럼 결측치 작업 완료']"
      ]
     },
     "execution_count": 85,
     "metadata": {},
     "output_type": "execute_result"
    }
   ],
   "source": [
    "list(map(na_fill, item_list))"
   ]
  },
  {
   "cell_type": "code",
   "execution_count": 86,
   "metadata": {},
   "outputs": [
    {
     "data": {
      "text/plain": [
       "purchase_date    0\n",
       "item_name        0\n",
       "item_price       0\n",
       "customer_name    0\n",
       "dtype: int64"
      ]
     },
     "execution_count": 86,
     "metadata": {},
     "output_type": "execute_result"
    }
   ],
   "source": [
    "uriage3.isna().sum()"
   ]
  }
 ],
 "metadata": {
  "kernelspec": {
   "display_name": "Python 3",
   "language": "python",
   "name": "python3"
  },
  "language_info": {
   "codemirror_mode": {
    "name": "ipython",
    "version": 3
   },
   "file_extension": ".py",
   "mimetype": "text/x-python",
   "name": "python",
   "nbconvert_exporter": "python",
   "pygments_lexer": "ipython3",
   "version": "3.11.5"
  },
  "orig_nbformat": 4
 },
 "nbformat": 4,
 "nbformat_minor": 2
}
