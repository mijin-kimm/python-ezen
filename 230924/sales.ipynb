{
 "cells": [
  {
   "cell_type": "markdown",
   "metadata": {},
   "source": [
    "### 연습문제\n",
    "1. csv폴더에 있는 'Sales Records.csv 파일 로드 \n",
    "2. 'Order ID', 'Total Revenue', 'Total Cost', 'Total Profit', 'Sales Channel' 컬럼을 삭제\n",
    "3. 컬럼의 이름을 변경 -> ['대륙', '국가', '상품종류', '우선순위', '주문일자', '발송일자', '개수', '단가', '원가']\n",
    "4. 대륙, 국가를 기준으로 오름차순 정렬\n",
    "5. 기존의 인덱스는 삭제하고 새로운 인덱스 생성\n",
    "6. 파생변수 생성\n",
    "    - 총단가 = 개수 * 단가\n",
    "    - 총원가 = 개수 * 원가\n",
    "    - 총이윤 = 총단가 - 총원가"
   ]
  },
  {
   "cell_type": "code",
   "execution_count": 1,
   "metadata": {},
   "outputs": [],
   "source": [
    "# 라이브러리 로드 \n",
    "import pandas as pd"
   ]
  },
  {
   "cell_type": "code",
   "execution_count": 2,
   "metadata": {},
   "outputs": [
    {
     "data": {
      "text/html": [
       "<div>\n",
       "<style scoped>\n",
       "    .dataframe tbody tr th:only-of-type {\n",
       "        vertical-align: middle;\n",
       "    }\n",
       "\n",
       "    .dataframe tbody tr th {\n",
       "        vertical-align: top;\n",
       "    }\n",
       "\n",
       "    .dataframe thead th {\n",
       "        text-align: right;\n",
       "    }\n",
       "</style>\n",
       "<table border=\"1\" class=\"dataframe\">\n",
       "  <thead>\n",
       "    <tr style=\"text-align: right;\">\n",
       "      <th></th>\n",
       "      <th>Region</th>\n",
       "      <th>Country</th>\n",
       "      <th>Item Type</th>\n",
       "      <th>Sales Channel</th>\n",
       "      <th>Order Priority</th>\n",
       "      <th>Order Date</th>\n",
       "      <th>Order ID</th>\n",
       "      <th>Ship Date</th>\n",
       "      <th>Units Sold</th>\n",
       "      <th>Unit Price</th>\n",
       "      <th>Unit Cost</th>\n",
       "      <th>Total Revenue</th>\n",
       "      <th>Total Cost</th>\n",
       "      <th>Total Profit</th>\n",
       "    </tr>\n",
       "  </thead>\n",
       "  <tbody>\n",
       "    <tr>\n",
       "      <th>0</th>\n",
       "      <td>Sub-Saharan Africa</td>\n",
       "      <td>Chad</td>\n",
       "      <td>Office Supplies</td>\n",
       "      <td>Online</td>\n",
       "      <td>L</td>\n",
       "      <td>1/27/2011</td>\n",
       "      <td>292494523</td>\n",
       "      <td>2/12/2011</td>\n",
       "      <td>4484</td>\n",
       "      <td>651.21</td>\n",
       "      <td>524.96</td>\n",
       "      <td>2920025.64</td>\n",
       "      <td>2353920.64</td>\n",
       "      <td>566105.0</td>\n",
       "    </tr>\n",
       "  </tbody>\n",
       "</table>\n",
       "</div>"
      ],
      "text/plain": [
       "               Region Country        Item Type Sales Channel Order Priority  \\\n",
       "0  Sub-Saharan Africa    Chad  Office Supplies        Online              L   \n",
       "\n",
       "  Order Date   Order ID  Ship Date  Units Sold  Unit Price  Unit Cost  \\\n",
       "0  1/27/2011  292494523  2/12/2011        4484      651.21     524.96   \n",
       "\n",
       "   Total Revenue  Total Cost  Total Profit  \n",
       "0     2920025.64  2353920.64      566105.0  "
      ]
     },
     "execution_count": 2,
     "metadata": {},
     "output_type": "execute_result"
    }
   ],
   "source": [
    "# 1. Sales Records.csv 파일 로드 \n",
    "sales = pd.read_csv('../csv/Sales Records.csv')\n",
    "sales.head(1)"
   ]
  },
  {
   "cell_type": "code",
   "execution_count": 6,
   "metadata": {},
   "outputs": [],
   "source": [
    "# 2. 특정 컬럼을 제거 \n",
    "df = sales.drop(['Order ID', 'Total Revenue', 'Total Cost', 'Total Profit', 'Sales Channel'] ,axis=1)"
   ]
  },
  {
   "cell_type": "code",
   "execution_count": 10,
   "metadata": {},
   "outputs": [],
   "source": [
    "# 컬럼의 이름을 변경\n",
    "# rename()을 사용하여 컬럼의 이름을 변경\n",
    "df.rename(\n",
    "    columns= {\n",
    "        'Region' : '대륙', \n",
    "        'Country' : '국가', \n",
    "        'Item Type' : '상품종류', \n",
    "        'Order Priority' : '우선순위', \n",
    "        'Order Date' : '주문일자', \n",
    "        'Ship Date' : '발송일자', \n",
    "        'Units Sold' : '개수', \n",
    "        'Unit Price' : '단가', \n",
    "        'Unit Cost' : '원가'\n",
    "    }\n",
    ")\n",
    "\n",
    "df.columns = ['대륙', '국가', '상품종류', '우선순위', '주문일자', \n",
    "              '발송일자', '개수', '단가', '원가']"
   ]
  },
  {
   "cell_type": "code",
   "execution_count": null,
   "metadata": {},
   "outputs": [],
   "source": [
    "df.head(1)"
   ]
  },
  {
   "cell_type": "code",
   "execution_count": 14,
   "metadata": {},
   "outputs": [],
   "source": [
    "# 대륙, 국가를 기준으로 오름차순 정렬\n",
    "df.sort_values(['대륙', '국가'], ascending=True, inplace=True)"
   ]
  },
  {
   "cell_type": "code",
   "execution_count": 16,
   "metadata": {},
   "outputs": [],
   "source": [
    "# 인덱스를 초기화 기존의 인덱스는 제거 \n",
    "df.reset_index(drop=True, inplace=True)"
   ]
  },
  {
   "cell_type": "code",
   "execution_count": 17,
   "metadata": {},
   "outputs": [],
   "source": [
    "# 새로운 파생변수 -> 총단가, 총원가, 총이윤\n",
    "df['총단가'] = df['개수'] * df['단가']\n",
    "df['총원가'] = df['개수'] * df['원가']\n",
    "df['총이윤'] = df['총단가'] - df['총원가']"
   ]
  },
  {
   "cell_type": "code",
   "execution_count": null,
   "metadata": {},
   "outputs": [],
   "source": [
    "df.head(1)"
   ]
  },
  {
   "cell_type": "code",
   "execution_count": null,
   "metadata": {},
   "outputs": [],
   "source": [
    "df.info()"
   ]
  },
  {
   "cell_type": "markdown",
   "metadata": {},
   "source": [
    "1. 국가별로 그룹화 그룹화 연산 총이윤의 합계\n",
    "2. 총이윤을 기준으로 내림차순 정렬\n",
    "3. 상위 10개의 데이터를 출력\n",
    "4. South Korea을 순위가 몇위인가?"
   ]
  },
  {
   "cell_type": "code",
   "execution_count": 22,
   "metadata": {},
   "outputs": [],
   "source": [
    "group_data = df[ ['국가', '총이윤'] ].groupby(['국가']).sum()"
   ]
  },
  {
   "cell_type": "code",
   "execution_count": 23,
   "metadata": {},
   "outputs": [
    {
     "data": {
      "text/html": [
       "<div>\n",
       "<style scoped>\n",
       "    .dataframe tbody tr th:only-of-type {\n",
       "        vertical-align: middle;\n",
       "    }\n",
       "\n",
       "    .dataframe tbody tr th {\n",
       "        vertical-align: top;\n",
       "    }\n",
       "\n",
       "    .dataframe thead th {\n",
       "        text-align: right;\n",
       "    }\n",
       "</style>\n",
       "<table border=\"1\" class=\"dataframe\">\n",
       "  <thead>\n",
       "    <tr style=\"text-align: right;\">\n",
       "      <th></th>\n",
       "      <th>총이윤</th>\n",
       "    </tr>\n",
       "    <tr>\n",
       "      <th>국가</th>\n",
       "      <th></th>\n",
       "    </tr>\n",
       "  </thead>\n",
       "  <tbody>\n",
       "    <tr>\n",
       "      <th>Afghanistan</th>\n",
       "      <td>22977020.06</td>\n",
       "    </tr>\n",
       "  </tbody>\n",
       "</table>\n",
       "</div>"
      ],
      "text/plain": [
       "                     총이윤\n",
       "국가                      \n",
       "Afghanistan  22977020.06"
      ]
     },
     "execution_count": 23,
     "metadata": {},
     "output_type": "execute_result"
    }
   ],
   "source": [
    "group_data.head(1)"
   ]
  },
  {
   "cell_type": "code",
   "execution_count": 25,
   "metadata": {},
   "outputs": [],
   "source": [
    "# group_data의 총이윤을 기준으로 내림차순 정렬\n",
    "group_data.sort_values(['총이윤'], ascending=False, inplace=True)"
   ]
  },
  {
   "cell_type": "code",
   "execution_count": null,
   "metadata": {},
   "outputs": [],
   "source": [
    "# 상위 10개의 나라를 출력\n",
    "group_data.head(10)"
   ]
  },
  {
   "cell_type": "code",
   "execution_count": 30,
   "metadata": {},
   "outputs": [],
   "source": [
    "group_data.reset_index(drop=False, inplace=True)"
   ]
  },
  {
   "cell_type": "code",
   "execution_count": 39,
   "metadata": {},
   "outputs": [
    {
     "data": {
      "text/plain": [
       "23893933.75"
      ]
     },
     "execution_count": 39,
     "metadata": {},
     "output_type": "execute_result"
    }
   ],
   "source": [
    "group_data.loc[ \n",
    "    group_data['국가'] == 'South Korea'\n",
    "    ].values[0][1]"
   ]
  },
  {
   "cell_type": "code",
   "execution_count": 32,
   "metadata": {},
   "outputs": [],
   "source": [
    "# 그래프 시각화 라이브러리 로드 \n",
    "import matplotlib.pyplot as plt"
   ]
  },
  {
   "cell_type": "code",
   "execution_count": 43,
   "metadata": {},
   "outputs": [
    {
     "data": {
      "image/png": "[encoded data removed]",
      "text/plain": [
       "<Figure size 1600x800 with 1 Axes>"
      ]
     },
     "metadata": {},
     "output_type": "display_data"
    }
   ],
   "source": [
    "# 바형 그래프의 x축 데이터\n",
    "x = group_data.index\n",
    "# 바형 그래프의 y축 데이터\n",
    "y = group_data['총이윤']\n",
    "\n",
    "# 한국의 인덱스값 출력\n",
    "korea_index = group_data.loc[ group_data['국가'] == 'South Korea' ].index[0]\n",
    "# 한국의 총이윤 값을 출력\n",
    "korea_data = group_data.loc[ korea_index , '총이윤' ]\n",
    "\n",
    "\n",
    "# 그래프 사이즈를 변경\n",
    "plt.figure(figsize=(16, 8))\n",
    "\n",
    "bar_list = plt.bar(x, y)\n",
    "\n",
    "# bar_list에 있는 korea_index위치의 막대를 선택하여 옵션을 변경\n",
    "bar_list[korea_index].set_color('r')\n",
    "\n",
    "# 그래프에 주석을 추가 \n",
    "plt.annotate(\n",
    "    \"South Korea : \" + str(korea_index + 1), # 주석의 문자열\n",
    "    xytext = (korea_index + 10, korea_data + 5000000), #주석 문자열의 위치\n",
    "    xy = (korea_index, korea_data), # 주석이 설명하는 좌표\n",
    "    arrowprops = dict(\n",
    "        facecolor = 'r', \n",
    "        shrink = 0.05\n",
    "    )\n",
    ")\n",
    "\n",
    "\n",
    "plt.show()"
   ]
  }
 ],
 "metadata": {
  "kernelspec": {
   "display_name": "Python 3",
   "language": "python",
   "name": "python3"
  },
  "language_info": {
   "codemirror_mode": {
    "name": "ipython",
    "version": 3
   },
   "file_extension": ".py",
   "mimetype": "text/x-python",
   "name": "python",
   "nbconvert_exporter": "python",
   "pygments_lexer": "ipython3",
   "version": "3.11.5"
  },
  "orig_nbformat": 4
 },
 "nbformat": 4,
 "nbformat_minor": 2
}
