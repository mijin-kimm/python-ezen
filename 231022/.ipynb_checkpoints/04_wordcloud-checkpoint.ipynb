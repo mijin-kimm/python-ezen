{
 "cells": [
  {
   "cell_type": "code",
   "execution_count": null,
   "metadata": {},
   "outputs": [
    {
     "ename": "",
     "evalue": "",
     "output_type": "error",
     "traceback": [
      "\u001b[1;31m'/Users/gin/Library/Python/3.8/lib/python/site-packages/psutil/_psutil_osx.abi3.so, 0x0002'에서 '/Users/gin/Library/Python/3.8/lib/python/site-packages/psutil/_psutil_osx.abi3.so'을(를) 가져올 수 없기 때문에 kernel을 시작하지 못했습니다.\n",
      "\u001b[1;31m자세한 내용을 보려면 <a href='https://aka.ms/kernelFailuresModuleImportErrFromFile'>여기</a>를 클릭합니다."
     ]
    }
   ],
   "source": [
    "# 라이브러리 설치\n",
    "!pip3 install konlpy\n",
    "!pip3 install wordcloud\n",
    "!pip3 install scikit-learn"
   ]
  },
  {
   "cell_type": "code",
   "execution_count": 21,
   "metadata": {},
   "outputs": [
    {
     "name": "stdout",
     "output_type": "stream",
     "text": [
      "Package            Version\n",
      "------------------ -------\n",
      "appnope            0.1.3\n",
      "asttokens          2.4.0\n",
      "backcall           0.2.0\n",
      "comm               0.1.4\n",
      "debugpy            1.8.0\n",
      "decorator          5.1.1\n",
      "executing          2.0.0\n",
      "importlib-metadata 6.8.0\n",
      "ipykernel          6.25.2\n",
      "ipython            8.12.3\n",
      "jedi               0.19.1\n",
      "jupyter_client     8.4.0\n",
      "jupyter_core       5.4.0\n",
      "matplotlib-inline  0.1.6\n",
      "nest-asyncio       1.5.8\n",
      "packaging          23.2\n",
      "parso              0.8.3\n",
      "pexpect            4.8.0\n",
      "pickleshare        0.7.5\n",
      "pip                23.2.1\n",
      "platformdirs       3.11.0\n",
      "prompt-toolkit     3.0.39\n",
      "psutil             5.9.6\n",
      "ptyprocess         0.7.0\n",
      "pure-eval          0.2.2\n",
      "Pygments           2.16.1\n",
      "python-dateutil    2.8.2\n",
      "pyzmq              25.1.1\n",
      "setuptools         68.1.2\n",
      "six                1.16.0\n",
      "stack-data         0.6.3\n",
      "tornado            6.3.3\n",
      "traitlets          5.11.2\n",
      "typing_extensions  4.8.0\n",
      "wcwidth            0.2.8\n",
      "wheel              0.41.2\n",
      "zipp               3.17.0\n",
      "Note: you may need to restart the kernel to use updated packages.\n"
     ]
    }
   ],
   "source": [
    "pip list"
   ]
  },
  {
   "cell_type": "code",
   "execution_count": 22,
   "metadata": {},
   "outputs": [
    {
     "ename": "ModuleNotFoundError",
     "evalue": "No module named 'wordcloud'",
     "output_type": "error",
     "traceback": [
      "\u001b[0;31m---------------------------------------------------------------------------\u001b[0m",
      "\u001b[0;31mModuleNotFoundError\u001b[0m                       Traceback (most recent call last)",
      "\u001b[1;32m/Users/gin/Documents/GitHub/python-ezen/231022/04_wordcloud.ipynb 셀 3\u001b[0m line \u001b[0;36m1\n\u001b[0;32m----> <a href='vscode-notebook-cell:/Users/gin/Documents/GitHub/python-ezen/231022/04_wordcloud.ipynb#W1sZmlsZQ%3D%3D?line=0'>1</a>\u001b[0m \u001b[39mfrom\u001b[39;00m \u001b[39mwordcloud\u001b[39;00m \u001b[39mimport\u001b[39;00m WordCloud\n\u001b[1;32m      <a href='vscode-notebook-cell:/Users/gin/Documents/GitHub/python-ezen/231022/04_wordcloud.ipynb#W1sZmlsZQ%3D%3D?line=1'>2</a>\u001b[0m \u001b[39mfrom\u001b[39;00m \u001b[39mkonlpy\u001b[39;00m\u001b[39m.\u001b[39;00m\u001b[39mtag\u001b[39;00m \u001b[39mimport\u001b[39;00m Okt\n\u001b[1;32m      <a href='vscode-notebook-cell:/Users/gin/Documents/GitHub/python-ezen/231022/04_wordcloud.ipynb#W1sZmlsZQ%3D%3D?line=2'>3</a>\u001b[0m \u001b[39mfrom\u001b[39;00m \u001b[39mcollections\u001b[39;00m \u001b[39mimport\u001b[39;00m Counter\n",
      "\u001b[0;31mModuleNotFoundError\u001b[0m: No module named 'wordcloud'"
     ]
    }
   ],
   "source": [
    "from wordcloud import WordCloud\n",
    "from konlpy.tag import Okt\n",
    "from collections import Counter\n",
    "import matplotlib.pyplot as plt\n",
    "import numpy as np\n",
    "from PIL import Image\n",
    "\n"
   ]
  },
  {
   "cell_type": "code",
   "execution_count": null,
   "metadata": {},
   "outputs": [],
   "source": [
    "# text 파일을 로드\n",
    "text = open(\"../대한민국헌법/txt\", encoding='utf-8').read()\n",
    "text"
   ]
  },
  {
   "cell_type": "code",
   "execution_count": null,
   "metadata": {},
   "outputs": [],
   "source": []
  }
 ],
 "metadata": {
  "kernelspec": {
   "display_name": "Python 3",
   "language": "python",
   "name": "python3"
  },
  "language_info": {
   "codemirror_mode": {
    "name": "ipython",
    "version": 3
   },
   "file_extension": ".py",
   "mimetype": "text/x-python",
   "name": "python",
   "nbconvert_exporter": "python",
   "pygments_lexer": "ipython3",
   "version": "3.8.18"
  }
 },
 "nbformat": 4,
 "nbformat_minor": 2
}
